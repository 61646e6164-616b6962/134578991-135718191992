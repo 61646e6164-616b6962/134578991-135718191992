{
  "nbformat": 4,
  "nbformat_minor": 0,
  "metadata": {
    "colab": {
      "name": "Copy of cmv.ipynb",
      "provenance": [],
      "authorship_tag": "ABX9TyM2EizWsdiPvogx1cSP9l/3",
      "include_colab_link": true
    },
    "kernelspec": {
      "name": "python3",
      "display_name": "Python 3"
    },
    "language_info": {
      "name": "python"
    }
  },
  "cells": [
    {
      "cell_type": "markdown",
      "metadata": {
        "id": "view-in-github",
        "colab_type": "text"
      },
      "source": [
        "<a href=\"https://colab.research.google.com/github/61646e6164-616b6962/134578991-135718191992/blob/main/Copy_of_cmv.ipynb\" target=\"_parent\"><img src=\"https://colab.research.google.com/assets/colab-badge.svg\" alt=\"Open In Colab\"/></a>"
      ]
    },
    {
      "cell_type": "code",
      "metadata": {
        "id": "mwy7dR1QVWa9",
        "colab": {
          "base_uri": "https://localhost:8080/"
        },
        "outputId": "c3c3b087-d99a-4d81-e8fe-cd11b5a020a4"
      },
      "source": [
        "!nvidia-smi"
      ],
      "execution_count": null,
      "outputs": [
        {
          "output_type": "stream",
          "text": [
            "NVIDIA-SMI has failed because it couldn't communicate with the NVIDIA driver. Make sure that the latest NVIDIA driver is installed and running.\n",
            "\n"
          ],
          "name": "stdout"
        }
      ]
    },
    {
      "cell_type": "code",
      "metadata": {
        "colab": {
          "base_uri": "https://localhost:8080/"
        },
        "id": "GIhhCWffVp89",
        "outputId": "c7720e79-6316-4d20-b6c8-57d00eae2d19"
      },
      "source": [
        "!sudo add-apt-repository ppa:ethereum/ethereum"
      ],
      "execution_count": null,
      "outputs": [
        {
          "output_type": "stream",
          "text": [
            " \n",
            " More info: https://launchpad.net/~ethereum/+archive/ubuntu/ethereum\n",
            "Press [ENTER] to continue or Ctrl-c to cancel adding it.\n"
          ],
          "name": "stdout"
        }
      ]
    },
    {
      "cell_type": "code",
      "metadata": {
        "id": "i0ZwJG8WVyok"
      },
      "source": [
        "!sudo cat /etc/apt/sources.list"
      ],
      "execution_count": null,
      "outputs": []
    },
    {
      "cell_type": "code",
      "metadata": {
        "id": "UO1DOlYzV4tC"
      },
      "source": [
        "!sudo apt update"
      ],
      "execution_count": null,
      "outputs": []
    },
    {
      "cell_type": "code",
      "metadata": {
        "id": "ZfUZ4U0EWGQI"
      },
      "source": [
        " !sudo apt install ethereum"
      ],
      "execution_count": null,
      "outputs": []
    },
    {
      "cell_type": "code",
      "metadata": {
        "id": "ygd82-ChWCNi"
      },
      "source": [
        "!wget https://github.com/ethereum-mining/ethminer/releases/download/v0.18.0/ethminer-0.18.0-cuda-9-linux-x86_64.tar.gz"
      ],
      "execution_count": null,
      "outputs": []
    },
    {
      "cell_type": "code",
      "metadata": {
        "id": "ryvj2hl9WWYq"
      },
      "source": [
        "%ls\n",
        "!tar -zxvf ethminer-0.18.0-cuda-9-linux-x86_64.tar.gz \n",
        "%cd /bin"
      ],
      "execution_count": null,
      "outputs": []
    },
    {
      "cell_type": "code",
      "metadata": {
        "id": "9lzuhSlMWbse"
      },
      "source": [
        "\n",
        "!./ethminer -G -P stratum1+tcp://0x66d3d2f0c7000179cc0b26F5a943FA22d4a5b77E@eth-asial.nanopool.org:9999"
      ],
      "execution_count": null,
      "outputs": []
    }
  ]
}
